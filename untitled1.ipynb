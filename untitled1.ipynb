{
  "nbformat": 4,
  "nbformat_minor": 0,
  "metadata": {
    "colab": {
      "name": "untitled1.ipynb",
      "provenance": [],
      "authorship_tag": "ABX9TyPUyXfpx6hf0mi5+0oftMEC",
      "include_colab_link": true
    },
    "kernelspec": {
      "name": "python3",
      "display_name": "Python 3"
    },
    "language_info": {
      "name": "python"
    }
  },
  "cells": [
    {
      "cell_type": "markdown",
      "metadata": {
        "id": "view-in-github",
        "colab_type": "text"
      },
      "source": [
        "<a href=\"https://colab.research.google.com/github/sa4475/RA2112704010011/blob/main/untitled1.ipynb\" target=\"_parent\"><img src=\"https://colab.research.google.com/assets/colab-badge.svg\" alt=\"Open In Colab\"/></a>"
      ]
    },
    {
      "cell_type": "code",
      "source": [
        "import numpy as np\n",
        "import pandas as pd\n",
        "\"\"\"Analysis of 7 Countries\"\"\"\n",
        "df=pd.DataFrame({\n",
        "    'Population' : [35.467, 63.951, 80.94, 60.665, 127.061, 65.511, 318.523],\n",
        "    'GDP' : [8574536, 3425674, 1754753, 2464567, 3542567, 5432567, 43256753],\n",
        "    'Surface Area' : [9483209, 235123, 453256, 673829, 475829 , 832476, 8574638],\n",
        "    'HDI' : [0.645, 0.754, 0.967, 0.342, 0.564, 0.976, 0.866],\n",
        "    'Continent' : ['America', 'Europe', 'Europe', 'Europe', 'Asia', 'Europe', 'America']\n",
        "\n",
        "},columns=['Population', 'GDP', 'Surface Area', 'HDI', 'Continent'])\n",
        "df.index=[\n",
        "          'Canada',\n",
        "          'France',\n",
        "          'Germany',\n",
        "          'Italy',\n",
        "          'Japan',\n",
        "          'United Kingdom',\n",
        "          'United States']\n",
        "print(df)\n",
        "print()\n",
        "print(df.loc['Canada'])\n",
        "print()\n",
        "print(\"Mean: \")\n",
        "print(df.mean())\n",
        "crisis=pd.Series([-1000000,-0.3], index=['GDP', 'HDI'])\n",
        "print()\n",
        "print(df[['GDP','HDI']]+crisis)\n",
        "lang=pd.Series(\n",
        "                ['French','German','Italian'],\n",
        "               index=['France','Germany','Italy']\n",
        ")\n",
        "df['Language']=lang\n",
        "print()\n",
        "print(df)\n",
        "array = np.array([\n",
        "    [3, 7, 1],\n",
        "    [10, 3, 2],\n",
        "    [5, 6, 7]\n",
        "])\n",
        "print(array)\n",
        "print()\n",
        "print(np.sort(array, axis=None))\n",
        "print(np.sort(array, axis=1))\n",
        "print(np.sort(array, axis=0))\n",
        "print()\n",
        "list = [\n",
        "    np.array([3, 2, 8, 9]),\n",
        "    np.array([4, 12, 34, 25, 78]),\n",
        "    np.array([23, 12, 67])\n",
        "]\n",
        "\n",
        "result = []\n",
        "for i in range(len(list)):\n",
        "    result.append(np.mean(list[i]))\n",
        "print(\"Mean is: \", result)"
      ],
      "metadata": {
        "id": "hYGQM74ce8Bm",
        "colab": {
          "base_uri": "https://localhost:8080/"
        },
        "outputId": "20fc21f0-e827-4365-a857-936c21ebb4d4"
      },
      "execution_count": 1,
      "outputs": [
        {
          "output_type": "stream",
          "name": "stdout",
          "text": [
            "                Population       GDP  Surface Area    HDI Continent\n",
            "Canada              35.467   8574536       9483209  0.645   America\n",
            "France              63.951   3425674        235123  0.754    Europe\n",
            "Germany             80.940   1754753        453256  0.967    Europe\n",
            "Italy               60.665   2464567        673829  0.342    Europe\n",
            "Japan              127.061   3542567        475829  0.564      Asia\n",
            "United Kingdom      65.511   5432567        832476  0.976    Europe\n",
            "United States      318.523  43256753       8574638  0.866   America\n",
            "\n",
            "Population       35.467\n",
            "GDP             8574536\n",
            "Surface Area    9483209\n",
            "HDI               0.645\n",
            "Continent       America\n",
            "Name: Canada, dtype: object\n",
            "\n",
            "Mean: \n",
            "Population      1.074454e+02\n",
            "GDP             9.778774e+06\n",
            "Surface Area    2.961194e+06\n",
            "HDI             7.305714e-01\n",
            "dtype: float64\n",
            "\n",
            "                       GDP    HDI\n",
            "Canada           7574536.0  0.345\n",
            "France           2425674.0  0.454\n",
            "Germany           754753.0  0.667\n",
            "Italy            1464567.0  0.042\n",
            "Japan            2542567.0  0.264\n",
            "United Kingdom   4432567.0  0.676\n",
            "United States   42256753.0  0.566\n",
            "\n",
            "                Population       GDP  Surface Area    HDI Continent Language\n",
            "Canada              35.467   8574536       9483209  0.645   America      NaN\n",
            "France              63.951   3425674        235123  0.754    Europe   French\n",
            "Germany             80.940   1754753        453256  0.967    Europe   German\n",
            "Italy               60.665   2464567        673829  0.342    Europe  Italian\n",
            "Japan              127.061   3542567        475829  0.564      Asia      NaN\n",
            "United Kingdom      65.511   5432567        832476  0.976    Europe      NaN\n",
            "United States      318.523  43256753       8574638  0.866   America      NaN\n",
            "[[ 3  7  1]\n",
            " [10  3  2]\n",
            " [ 5  6  7]]\n",
            "\n",
            "[ 1  2  3  3  5  6  7  7 10]\n",
            "[[ 1  3  7]\n",
            " [ 2  3 10]\n",
            " [ 5  6  7]]\n",
            "[[ 3  3  1]\n",
            " [ 5  6  2]\n",
            " [10  7  7]]\n",
            "\n",
            "Mean is:  [5.5, 30.6, 34.0]\n"
          ]
        }
      ]
    }
  ]
}